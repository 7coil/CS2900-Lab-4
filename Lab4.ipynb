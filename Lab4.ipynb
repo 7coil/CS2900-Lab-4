{
 "cells": [
  {
   "cell_type": "markdown",
   "metadata": {},
   "source": [
    "The learning outcomes of this session are\n",
    "\n",
    "-   to have an introductory understanding of Singular Value\n",
    "    Decomposition (SVD).\n",
    "\n",
    "-   Understanding the use of condition numbers.\n",
    "\n",
    "-   To use SVD to perform least squares.\n",
    "\n",
    "Set up\n",
    "======\n",
    "\n",
    "\n",
    "1.  Import NumPy as before with"
   ]
  },
  {
   "cell_type": "code",
   "execution_count": null,
   "metadata": {},
   "outputs": [],
   "source": [
    "    import numpy as np"
   ]
  },
  {
   "cell_type": "markdown",
   "metadata": {},
   "source": [
    "Singular Value Decomposition (SVD)\n",
    "==================================\n",
    "\n",
    "Refer to the lecture notes (topic 4) on SVD. Specifically any matrix\n",
    "$\\mathbf{A}$ can be written as\n",
    "$$\\mathbf{A} \\;\\; = \\;\\; \\mathbf{U} \\,  \\mathbf{D}   \\, \n",
    "\\mathbf{V}^{\\intercal} \\;\\; ,$$ where $$\\begin{aligned}\n",
    "\\mathbf{A} \\;\\; &\\in& \\;\\; \\mathbb{R} \\;\\; ,\\\\\n",
    "\\mathbf{U} \\;\\; &-& \\;\\; M \\times M \\;\\; , \\\\\n",
    "\\mathbf{V} \\;\\; &-& \\;\\; N \\times N \\;\\; , \\\\\n",
    "\\mathbf{U}, \\; \\mathbf{V} \\;\\; &-& \\;\\; \\text{orthogonal} \\;\\; , \\\\\n",
    "D_{ij} \\;\\; &=& \\;\\; \n",
    "\\left\\{ \n",
    "\\begin{matrix}\n",
    "d_i \\, \\ge \\, 0 \\;\\; \\text{iff} \\;\\; i=j \\\\\n",
    "0 \\;\\; \\text{otherwise}  \n",
    "\\end{matrix}\n",
    "\\right.  \\;\\; .\\end{aligned}$$ SVD can be performed in NumPy using\n",
    "numpy.linalg.svd.\n",
    "\n",
    "-   Type the following"
   ]
  },
  {
   "cell_type": "code",
   "execution_count": null,
   "metadata": {},
   "outputs": [],
   "source": [
    "    A = np.array([ [ 400.0, -201.0] , [-800.0,401.0] ])"
   ]
  },
  {
   "cell_type": "code",
   "execution_count": null,
   "metadata": {},
   "outputs": [],
   "source": [
    "    U,D,Vt = np.linalg.svd(A)"
   ]
  },
  {
   "cell_type": "code",
   "execution_count": null,
   "metadata": {},
   "outputs": [],
   "source": [
    "    print(\"U=\",U)"
   ]
  },
  {
   "cell_type": "code",
   "execution_count": null,
   "metadata": {},
   "outputs": [],
   "source": [
    "    print(\"D=\",D)"
   ]
  },
  {
   "cell_type": "code",
   "execution_count": null,
   "metadata": {},
   "outputs": [],
   "source": [
    "    print(\"Vt=\",Vt)"
   ]
  },
  {
   "cell_type": "markdown",
   "metadata": {},
   "source": [
    "-   **What are the dimensions of U , D and Vt?**\n",
    "\n",
    "-   Repeat the above for the following matrices. In each case, note the\n",
    "    dimensions of U , D and Vt.\n",
    "\n",
    "    $$\\begin{pmatrix}\n",
    "    1.0 & 2.0 & 3.0 \\\\\n",
    "    -1.0 & 3.0 & 2.0 \n",
    "    \\end{pmatrix}$$ $$\\begin{pmatrix}\n",
    "    1.0 & 2.0 & 3.0 & 4.0 \\\\\n",
    "    -1.0 & 3.0 & 2.0 & 3.0 \n",
    "    \\end{pmatrix}$$ $$\\begin{pmatrix}\n",
    "    1.0 & 2.0 \\\\\n",
    "    -1.0 & 3.0 \\\\\n",
    "    3.0 & 1.0 \n",
    "    \\end{pmatrix}$$\n",
    "\n",
    "    $$\\begin{pmatrix}\n",
    "    1.0 & 2.0 \\\\\n",
    "    -1.0 & 3.0 \\\\\n",
    "    3.0 & 1.0 \\\\\n",
    "    4.0 & 2.0 \n",
    "    \\end{pmatrix}$$\n",
    "\n",
    "Condition numbers\n",
    "=================\n",
    "\n",
    "The condition number of a matrix is the ratio of the largest to smallest\n",
    "diagonal entries of $\\mathbf{D}$ in its singular value decomposition. It\n",
    "gives us an indication of how close the matrix is to being singular\n",
    "(non-invertible). A matrix may be formally invertible but numerically\n",
    "(for a specific precision) it cannot be computed reliably. A very large\n",
    "condition number means it is close to being singular.\n",
    "\n",
    "One can compute the condition number of a matrix using the NumPy command\n",
    "numpy.linalg.cond, though you can also compute it directly if you have D\n",
    "computed directly.\n",
    "\n",
    "-   Consider the two matrices we examined in lab 3."
   ]
  },
  {
   "cell_type": "code",
   "execution_count": null,
   "metadata": {},
   "outputs": [],
   "source": [
    "    A = np.array([[400.0, -201.0],[-800.0,401.0]])"
   ]
  },
  {
   "cell_type": "code",
   "execution_count": null,
   "metadata": {},
   "outputs": [],
   "source": [
    "    B = np.array([ [401.0, -201.0], [-800.0,401.0] ] )"
   ]
  },
  {
   "cell_type": "markdown",
   "metadata": {},
   "source": [
    "    Compute the condition number of A with"
   ]
  },
  {
   "cell_type": "code",
   "execution_count": null,
   "metadata": {},
   "outputs": [],
   "source": [
    "    print(np.linalg.cond(A))"
   ]
  },
  {
   "cell_type": "markdown",
   "metadata": {},
   "source": [
    "-   **Compute the condition number of B using the same command. How do\n",
    "    they compare?**\n",
    "\n",
    "-   Perform an SVD on A using"
   ]
  },
  {
   "cell_type": "code",
   "execution_count": null,
   "metadata": {},
   "outputs": [],
   "source": [
    "    U,D,Vt = np.linalg.svd(A)"
   ]
  },
  {
   "cell_type": "markdown",
   "metadata": {},
   "source": [
    "-   Type the following"
   ]
  },
  {
   "cell_type": "code",
   "execution_count": null,
   "metadata": {},
   "outputs": [],
   "source": [
    "    print(D[0]/D[1])"
   ]
  },
  {
   "cell_type": "markdown",
   "metadata": {},
   "source": [
    "    **How does this compare with the condition number of A? Why do you think that\n",
    "    happened?**\n",
    "\n",
    "-   Now consider a new matrix"
   ]
  },
  {
   "cell_type": "code",
   "execution_count": null,
   "metadata": {},
   "outputs": [],
   "source": [
    "    A = np.array([[ 1.0, 2.0, 3.0 ], [3.0,-4.0,5.0], [1.0,-8.0,-1.0] ])"
   ]
  },
  {
   "cell_type": "code",
   "execution_count": null,
   "metadata": {},
   "outputs": [],
   "source": [
    "    U, D, Vt = np.linalg.svd(A)"
   ]
  },
  {
   "cell_type": "code",
   "execution_count": null,
   "metadata": {},
   "outputs": [],
   "source": [
    "    print(\"D=\",D)"
   ]
  },
  {
   "cell_type": "code",
   "execution_count": null,
   "metadata": {},
   "outputs": [],
   "source": [
    "    print(\"Condition number of D =\",np.linalg.cond(A))"
   ]
  },
  {
   "cell_type": "markdown",
   "metadata": {},
   "source": [
    "-   Check to see if the matrix can be inverted."
   ]
  },
  {
   "cell_type": "code",
   "execution_count": null,
   "metadata": {},
   "outputs": [],
   "source": [
    "    print(\"Inverse of A = \", np.linalg.inv(A))"
   ]
  },
  {
   "cell_type": "code",
   "execution_count": null,
   "metadata": {},
   "outputs": [],
   "source": [
    "    print(\"Ainv A =\", np.linalg.inv(A).dot(A))"
   ]
  },
  {
   "attachments": {
    "../Figures/Topic2MedCorrExample.png": {
     "image/png": "[encoded data removed]"
    }
   },
   "cell_type": "markdown",
   "metadata": {},
   "source": [
    "-   **What happened with Ainv A?**\n",
    "\n",
    "Inverting with SVD\n",
    "==================\n",
    "\n",
    "If a matrix $\\mathbf{A}$ is invertible then we can write the inverse\n",
    "using SVD. So writing $\\mathbf{A}$ as\n",
    "$$\\mathbf{A} \\;\\; = \\;\\; \\mathbf{U} \\, \\mathbf{D} \\, \\mathbf{V}^{\\intercal} \\;\\;,$$\n",
    "then\n",
    "$$\\mathbf{A}^{-1} \\;\\; = \\;\\; \\mathbf{V} \\, \\mathbf{D}^{-1} \\, \\mathbf{U}^{\\intercal} \\;\\; .$$\n",
    "where $\\mathbf{D}^{-1}$ is a diagonal matrix where the diagonal entries\n",
    "are the inverse of the diagonal entries of $\\mathbf{D}$.\n",
    "\n",
    "**Compute the inverse of the matrix $$\\begin{pmatrix}\n",
    "400.0& -201.0 \\\\\n",
    "-800.0&401.0 \n",
    "\\end{pmatrix}$$ first using numpy.linalg.inv and then using the above\n",
    "approach.**\n",
    "\n",
    "Least squares\n",
    "=============\n",
    "\n",
    "There are many cases where you will need to get a ‘best fit’ of the data\n",
    "that you have. Consider the scatter plot we considered in Topic 2\n",
    "\n",
    "<figure>\n",
    "<img src=\"attachment:../Figures/Topic2MedCorrExample.png\" alt=\"image\" style=\"height:6cm\" /><figcaption>image</figcaption>\n",
    "</figure>\n",
    "\n",
    "Clearly there is some relationship between the y-values and the\n",
    "x-values. Least squares attempts to find a line (of the form\n",
    "$y= mx + c$) that best represents this data. We will discuss this in the\n",
    "lectures but Python has a function which can carry this out\n",
    "(numpy.linalg.lstsq). From school you will probably know how to find\n",
    "this equation if you are given two points but not necessarily for an\n",
    "arbitrary number of points.\n",
    "\n",
    "As discussed in the documentation for numpy.linalg.lstsq\n",
    "\n",
    "in two dimensions we can think of this problem as solving a set of\n",
    "linear equations.\n",
    "\n",
    "If $\\underline{x}$ is a vector of all the observed x-values and\n",
    "$\\underline{y}$ the corresponding vector of y-values then we are trying\n",
    "to solve the following matrix equation\n",
    "$$\\underline{y} \\;\\; = \\;\\; \\mathbf{A} \\, \\underline{p} \\;\\;,$$\n",
    "\n",
    "where $$\\mathbf{A} = \n",
    " \\begin{pmatrix}\n",
    "\\underline{y} & \n",
    "\\begin{matrix}\n",
    "1 \\\\\n",
    "\\vdots \\\\\n",
    "1\n",
    "\\end{matrix}\n",
    "\\end{pmatrix}$$ and $$\\underline{p} = \n",
    " \\begin{pmatrix}\n",
    "m \\\\\n",
    "c\n",
    "\\end{pmatrix}$$\n",
    "\n",
    "*Hint - think about this when you have just two points.*\n",
    "\n",
    "If you have more than two points then there are more equations than\n",
    "unknowns and you can’t solve this (remember - for the above scatter plot\n",
    "then is no way to draw a straight line that goes through every point).\n",
    "\n",
    "But - least squares can give the best fit. We can test this with the\n",
    "following python code (please note - if you are running python on your\n",
    "laptop you may need to install matplotlib."
   ]
  },
  {
   "cell_type": "code",
   "execution_count": null,
   "metadata": {},
   "outputs": [],
   "source": [
    "import matplotlib.pyplot as plt"
   ]
  },
  {
   "cell_type": "code",
   "execution_count": null,
   "metadata": {},
   "outputs": [],
   "source": [
    "x = np.array([0, 1, 2, 3])"
   ]
  },
  {
   "cell_type": "code",
   "execution_count": null,
   "metadata": {},
   "outputs": [],
   "source": [
    "y = np.array([-1, 0.2, 0.9, 2.1])"
   ]
  },
  {
   "cell_type": "code",
   "execution_count": null,
   "metadata": {},
   "outputs": [],
   "source": [
    "A = np.vstack([x, np.ones(len(x))]).T"
   ]
  },
  {
   "cell_type": "code",
   "execution_count": null,
   "metadata": {},
   "outputs": [],
   "source": [
    "m, c = np.linalg.lstsq(A, y)[0]"
   ]
  },
  {
   "cell_type": "code",
   "execution_count": null,
   "metadata": {},
   "outputs": [],
   "source": [
    "print(m, c)"
   ]
  },
  {
   "cell_type": "code",
   "execution_count": null,
   "metadata": {},
   "outputs": [],
   "source": [
    "plt.plot(x, y, 'o', label='Original data', markersize=10)"
   ]
  },
  {
   "cell_type": "code",
   "execution_count": null,
   "metadata": {},
   "outputs": [],
   "source": [
    "plt.plot(x, m*x + c, 'r', label='Fitted line')"
   ]
  },
  {
   "cell_type": "code",
   "execution_count": null,
   "metadata": {},
   "outputs": [],
   "source": [
    "plt.legend()"
   ]
  },
  {
   "cell_type": "code",
   "execution_count": null,
   "metadata": {},
   "outputs": [],
   "source": [
    "plt.show()"
   ]
  },
  {
   "cell_type": "markdown",
   "metadata": {},
   "source": [
    "(Have a look at the NumPy documentation on vstack).\n",
    "\n",
    "**What happens?**\n",
    "\n",
    "SVD and Least Squares\n",
    "---------------------\n",
    "\n",
    "It turns out that least squares can be done with SVD.\n",
    "\n",
    "In particular, using SVD one can compute something called the\n",
    "*pseudo*-inverse of a matrix (for a matrix $\\mathbf{A}$ we label its\n",
    "pseudo-inverse $\\mathbf{A}^+$). You can compute the pseudo-inverse of\n",
    "any matrix.\n",
    "\n",
    "Hence we can come up with a best estimate of $\\underline{p}$ by\n",
    "computing\n",
    "\n",
    "$$\\underline{p} \\;\\; = \\;\\; \\mathbf{A}^+ \\, \\underline{y} \\;\\;.$$\n",
    "\n",
    "We can implement this in Python as we can compute the pseudo-inverse\n",
    "using numpy.linalg.pinv."
   ]
  },
  {
   "cell_type": "code",
   "execution_count": null,
   "metadata": {},
   "outputs": [],
   "source": [
    "Ap = np.linalg.pinv(A)"
   ]
  },
  {
   "cell_type": "code",
   "execution_count": null,
   "metadata": {},
   "outputs": [],
   "source": [
    "m,c = Ap.dot(y)"
   ]
  },
  {
   "cell_type": "code",
   "execution_count": null,
   "metadata": {},
   "outputs": [],
   "source": [
    "print(m, c)"
   ]
  },
  {
   "cell_type": "code",
   "execution_count": null,
   "metadata": {},
   "outputs": [],
   "source": [
    "plt.plot(x, y, 'o', label='Original data', markersize=10)"
   ]
  },
  {
   "cell_type": "code",
   "execution_count": null,
   "metadata": {},
   "outputs": [],
   "source": [
    "plt.plot(x, m*x + c, 'r', label='Fitted line')"
   ]
  },
  {
   "cell_type": "code",
   "execution_count": null,
   "metadata": {},
   "outputs": [],
   "source": [
    "plt.legend()"
   ]
  },
  {
   "cell_type": "code",
   "execution_count": null,
   "metadata": {},
   "outputs": [],
   "source": [
    "plt.show()"
   ]
  },
  {
   "cell_type": "markdown",
   "metadata": {},
   "source": [
    "How does this value of $m$ and $c$ compare with the previous values\n",
    "using the explicit least squares function?"
   ]
  }
 ],
 "metadata": {
  "author": [
   "Hugh Shanahan"
  ],
  "kernelspec": {
   "display_name": "Python 2",
   "language": "python",
   "name": "python2"
  },
  "language_info": {
   "codemirror_mode": {
    "name": "ipython",
    "version": 2
   },
   "file_extension": ".py",
   "mimetype": "text/x-python",
   "name": "python",
   "nbconvert_exporter": "python",
   "pygments_lexer": "ipython2",
   "version": "2.7.15"
  },
  "title": "CS2900 :- Topic 4 Lab"
 },
 "nbformat": 4,
 "nbformat_minor": 5
}
